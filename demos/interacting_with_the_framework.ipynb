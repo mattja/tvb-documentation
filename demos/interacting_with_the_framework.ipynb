{
 "cells": [
  {
   "cell_type": "markdown",
   "metadata": {},
   "source": [
    "Command Profile in TVB\n",
    "----------------------\n",
    "\n",
    "This is a simple demo showing for to interract with TVB in the command profile.\n",
    "\n",
    "More examples can be found here:\n",
    "https://github.com/the-virtual-brain/tvb-framework/tree/master/tvb/interfaces/command/demos"
   ]
  },
  {
   "cell_type": "code",
   "execution_count": 1,
   "metadata": {
    "collapsed": false
   },
   "outputs": [
    {
     "name": "stdout",
     "output_type": "stream",
     "text": [
      "2016-04-23 16:08:09,319 - INFO - tvb.interfaces.web.mplh5.mplh5_server - MPLH5 back-end server started.\n"
     ]
    }
   ],
   "source": [
    "from tvb.basic.profile import TvbProfile\n",
    "TvbProfile.set_profile(TvbProfile.COMMAND_PROFILE)\n",
    "from tvb.interfaces.command.lab import *"
   ]
  },
  {
   "cell_type": "code",
   "execution_count": 2,
   "metadata": {
    "collapsed": false
   },
   "outputs": [
    {
     "name": "stdout",
     "output_type": "stream",
     "text": [
      "                    name    id\n",
      "         Default_Project     1\n"
     ]
    }
   ],
   "source": [
    "list_projects()"
   ]
  },
  {
   "cell_type": "markdown",
   "metadata": {},
   "source": [
    "Create a new project to test with"
   ]
  },
  {
   "cell_type": "code",
   "execution_count": 3,
   "metadata": {
    "collapsed": true
   },
   "outputs": [],
   "source": [
    "proj = new_project(\"sandbox\")"
   ]
  },
  {
   "cell_type": "code",
   "execution_count": 4,
   "metadata": {
    "collapsed": false
   },
   "outputs": [
    {
     "data": {
      "text/plain": [
       "<Project('sandbox', '2')>"
      ]
     },
     "execution_count": 4,
     "metadata": {},
     "output_type": "execute_result"
    }
   ],
   "source": [
    "proj"
   ]
  },
  {
   "cell_type": "code",
   "execution_count": 5,
   "metadata": {
    "collapsed": false
   },
   "outputs": [
    {
     "name": "stdout",
     "output_type": "stream",
     "text": [
      "                    type              tag    id                              gid         date\n"
     ]
    }
   ],
   "source": [
    "list_datatypes(proj.id)"
   ]
  },
  {
   "cell_type": "markdown",
   "metadata": {},
   "source": [
    "Nothing! Let's import a connectivity"
   ]
  },
  {
   "cell_type": "code",
   "execution_count": 7,
   "metadata": {
    "collapsed": false
   },
   "outputs": [
    {
     "name": "stdout",
     "output_type": "stream",
     "text": [
      "2016-04-23 16:09:40,769 - INFO - tvb.core.services.flow_service - Starting operation ZIPConnectivityImporter\n",
      "2016-04-23 16:09:40,974 - INFO - tvb.core.services.flow_service - Finished operation:ZIPConnectivityImporter\n"
     ]
    }
   ],
   "source": [
    "import os\n",
    "import tvb_data\n",
    "p = os.path.join(os.path.dirname(tvb_data.__file__), 'connectivity/connectivity_66.zip')\n",
    "import_conn_zip(proj.id, p)"
   ]
  },
  {
   "cell_type": "code",
   "execution_count": 8,
   "metadata": {
    "collapsed": false
   },
   "outputs": [
    {
     "name": "stdout",
     "output_type": "stream",
     "text": [
      "                    type              tag    id                              gid         date\n",
      "            Connectivity             None    33 a39c12e1-0954-11e6-94a8-3c075431bf56 2016-04-23 16:09:40.877940\n"
     ]
    }
   ],
   "source": [
    "list_datatypes(proj.id)"
   ]
  },
  {
   "cell_type": "markdown",
   "metadata": {},
   "source": [
    "Now let's grab that connectivity from the database. \n",
    "IMPORTANT: Make sure to adjunt the DT id bellow:"
   ]
  },
  {
   "cell_type": "code",
   "execution_count": 9,
   "metadata": {
    "collapsed": false
   },
   "outputs": [
    {
     "data": {
      "text/plain": [
       "<DataType(33, a39c12e1-0954-11e6-94a8-3c075431bf56, Connectivity, tvb.datatypes.connectivity, John Doe, RAW_DATA, None, None, None, None, None, None)>"
      ]
     },
     "execution_count": 9,
     "metadata": {},
     "output_type": "execute_result"
    }
   ],
   "source": [
    "conn, = load_dt(33)\n",
    "conn"
   ]
  },
  {
   "cell_type": "markdown",
   "metadata": {},
   "source": [
    "and run a simulation with it"
   ]
  },
  {
   "cell_type": "code",
   "execution_count": 16,
   "metadata": {
    "collapsed": false
   },
   "outputs": [
    {
     "name": "stdout",
     "output_type": "stream",
     "text": [
      "2016-04-23 16:16:47,680 - INFO - tvb.core.services.flow_service - Starting operation SimulatorAdapter\n",
      "2016-04-23 16:16:47,706 - INFO - tvb.core.services.flow_service - Finished operation:SimulatorAdapter\n"
     ]
    }
   ],
   "source": [
    "params = dict(connectivity=conn)\n",
    "sim_op = fire_simulation(project_id=proj.id, connectivity=conn.gid, simulation_length=100)"
   ]
  },
  {
   "cell_type": "markdown",
   "metadata": {
    "collapsed": true
   },
   "source": [
    "We should wait for the simulation to finish, and afterwards, TimeSeries should also be part of this project.\n",
    "\n",
    "Refresh the Web GUI to see the status of your operation."
   ]
  },
  {
   "cell_type": "code",
   "execution_count": 19,
   "metadata": {
    "collapsed": false
   },
   "outputs": [
    {
     "name": "stdout",
     "output_type": "stream",
     "text": [
      "                    type              tag    id                              gid         date\n",
      "            Connectivity             None    33 a39c12e1-0954-11e6-94a8-3c075431bf56 2016-04-23 16:09:40.877940\n",
      "         SimulationState             None    34 8b523330-0955-11e6-9251-3c075431bf56 2016-04-23 16:16:09.600679\n",
      "         SimulationState             None    35 a51b2b6e-0955-11e6-a02d-3c075431bf56 2016-04-23 16:16:52.858382\n",
      "        TimeSeriesRegion             None    36 8b50c4dc-0955-11e6-8237-3c075431bf56 2016-04-23 16:16:55.278417\n",
      "        TimeSeriesRegion             None    37 a519bcfa-0955-11e6-90d0-3c075431bf56 2016-04-23 16:16:57.903965\n"
     ]
    }
   ],
   "source": [
    "list_datatypes(proj.id)"
   ]
  },
  {
   "cell_type": "code",
   "execution_count": null,
   "metadata": {
    "collapsed": true
   },
   "outputs": [],
   "source": []
  }
 ],
 "metadata": {
  "kernelspec": {
   "display_name": "Python 2",
   "language": "python",
   "name": "python2"
  },
  "language_info": {
   "codemirror_mode": {
    "name": "ipython",
    "version": 2
   },
   "file_extension": ".py",
   "mimetype": "text/x-python",
   "name": "python",
   "nbconvert_exporter": "python",
   "pygments_lexer": "ipython2",
   "version": "2.7.11"
  }
 },
 "nbformat": 4,
 "nbformat_minor": 0
}
