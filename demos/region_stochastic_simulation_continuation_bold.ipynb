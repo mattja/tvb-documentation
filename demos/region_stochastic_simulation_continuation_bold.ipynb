{
 "cells": [
  {
   "cell_type": "code",
   "execution_count": 1,
   "metadata": {
    "collapsed": false
   },
   "outputs": [
    {
     "name": "stdout",
     "output_type": "stream",
     "text": [
      "Populating the interactive namespace from numpy and matplotlib\n"
     ]
    }
   ],
   "source": [
    "%pylab inline"
   ]
  },
  {
   "cell_type": "markdown",
   "metadata": {},
   "source": [
    "###Demonstrate using the simulator at the region level, stochastic integration and the BOLD monitor:   \n",
    "\n",
    "- how to perform a simulation continuation, that is, to use data from one\n",
    "simulation as initial conditions for a second simulation (ie, simulation\n",
    "continuation) in order to avoid the temporal transient due to imperfect\n",
    "initial conditions.\n",
    "\n",
    "- how to save the random number generator state. "
   ]
  },
  {
   "cell_type": "code",
   "execution_count": 3,
   "metadata": {
    "collapsed": true
   },
   "outputs": [],
   "source": [
    "from tvb.simulator.lab import *\n",
    "import glob"
   ]
  },
  {
   "cell_type": "code",
   "execution_count": 4,
   "metadata": {
    "collapsed": false
   },
   "outputs": [
    {
     "data": {
      "image/png": "[encoded data removed]",
      "text/plain": [
       "<matplotlib.figure.Figure at 0x7fd4a649cf10>"
      ]
     },
     "metadata": {},
     "output_type": "display_data"
    }
   ],
   "source": [
    "######## build & run the initial simulation, if cryo file doesn't exist\n",
    "try:\n",
    "    os.stat('sim_cryo.npz')\n",
    "    print 'old simulation found! moving along...'\n",
    "\n",
    "except OSError:     # os.stat will give OSError if it doesn't find the file\n",
    "    \n",
    "    print 'old simulation not found, performing initial'\n",
    "\n",
    "    oscillator = models.Generic2dOscillator()\n",
    "    white_matter = connectivity.Connectivity(load_default=True)\n",
    "    white_matter.speed = numpy.array([4.0])\n",
    "    white_matter_coupling = coupling.Linear(a=0.0126)\n",
    "\n",
    "    heunint = integrators.HeunStochastic(dt=2 ** -4,\n",
    "                                         noise=noise.Additive(nsig=array([0.001])))\n",
    "\n",
    "    #Initialise some Monitors with period in physical time\n",
    "    tavg = monitors.TemporalAverage(period=1.0)     # 1000Hz\n",
    "    bold = monitors.Bold(period=500)    # defaults to one data point every 500ms\n",
    "\n",
    "    #Bundle them\n",
    "    what_to_watch = (tavg, bold)\n",
    "\n",
    "    #Define the stimulus\n",
    "    #Specify a weighting for regions to receive stimuli... \n",
    "    white_matter.configure()    # Because we want access to number_of_regions\n",
    "    nodes = [0, 7, 13, 33, 42]\n",
    "    weighting = numpy.zeros((white_matter.number_of_regions, ))\n",
    "    weighting[nodes] = numpy.array([2.0 ** -2, 2.0 ** -3, 2.0 ** -4, 2.0 ** -5, 2.0 ** -6])\n",
    "\n",
    "    #Initialise Simulator -- Model, Connectivity, Integrator, Monitors, and stimulus.\n",
    "    sim = simulator.Simulator(model=oscillator, connectivity=white_matter,\n",
    "                              coupling=white_matter_coupling,\n",
    "                              integrator=heunint, monitors=what_to_watch)\n",
    "    sim.configure()\n",
    "\n",
    "    #Perform the simulation\n",
    "    tavg_time = []\n",
    "    tavg_data = []\n",
    "    bold_time = []\n",
    "    bold_data = []\n",
    "\n",
    "    for tavg_out, bold_out in sim(10000):    # 10 s simulation\n",
    "        \n",
    "        if not tavg_out is None:\n",
    "            tavg_time.append(tavg_out[0])\n",
    "            tavg_data.append(tavg_out[1])\n",
    "        \n",
    "        if not bold_out is None:\n",
    "            bold_time.append(bold_out[0])\n",
    "            bold_data.append(bold_out[1])\n",
    "\n",
    "\n",
    "    # plot data to show the transient\n",
    "    figure(1)\n",
    "    plot(array(bold_time) / 1000.0, array(bold_data)[:, 0, :, 0])\n",
    "    title('initial simulation')\n",
    "    xlabel('time (s)')\n",
    "\n",
    "    # now, save the state: sim history, bold stock & noise generator state\n",
    "    history = sim.history.copy()\n",
    "    bold1 = sim.monitors[1]._interim_stock.copy()\n",
    "    bold2 = sim.monitors[1]._stock.copy()\n",
    "    rng = sim.integrator.noise.random_stream.get_state()\n",
    "\n",
    "    # save to file (sorry this is cryptic for the moment)\n",
    "    savez('sim_cryo.npz', history=history, bold1=bold1, bold2=bold2)\n",
    "    save('rng_%s_%d_%d_%.30g.npy' % ((rng[0],) + rng[2:]), rng[1])"
   ]
  },
  {
   "cell_type": "markdown",
   "metadata": {},
   "source": [
    " ####Now the continuation of the previous simulation"
   ]
  },
  {
   "cell_type": "code",
   "execution_count": 5,
   "metadata": {
    "collapsed": true
   },
   "outputs": [],
   "source": [
    "# build new simulator, possibly in a different script\n",
    "\n",
    "oscillator = models.Generic2dOscillator()\n",
    "white_matter = connectivity.Connectivity(load_default=True)\n",
    "white_matter.speed = numpy.array([4.0])\n",
    "white_matter_coupling = coupling.Linear(a=0.0126)\n",
    "\n",
    "heunint = integrators.HeunStochastic(dt=2 ** -4,\n",
    "                                     noise=noise.Additive(nsig=array([0.001])))"
   ]
  },
  {
   "cell_type": "code",
   "execution_count": 6,
   "metadata": {
    "collapsed": true
   },
   "outputs": [],
   "source": [
    "#Initialise some Monitors with period in physical time\n",
    "tavg = monitors.TemporalAverage(period=1.0)     # 1000Hz\n",
    "bold = monitors.Bold(period=500)        # defaults to one data point every 500ms\n",
    "\n",
    "#Bundle them\n",
    "what_to_watch = (tavg, bold)"
   ]
  },
  {
   "cell_type": "code",
   "execution_count": 7,
   "metadata": {
    "collapsed": true
   },
   "outputs": [],
   "source": [
    "#Define the stimulus\n",
    "#Specify a weighting for regions to receive stimuli... \n",
    "white_matter.configure()    # Because we want access to number_of_regions\n",
    "nodes = [0, 7, 13, 33, 42]\n",
    "weighting = numpy.zeros((white_matter.number_of_regions, ))\n",
    "weighting[nodes] = numpy.array([2.0 ** -2, 2.0 ** -3, 2.0 ** -4, 2.0 ** -5, 2.0 ** -6])"
   ]
  },
  {
   "cell_type": "code",
   "execution_count": 8,
   "metadata": {
    "collapsed": true
   },
   "outputs": [],
   "source": [
    "#Initialise Simulator -- Model, Connectivity, Integrator, Monitors, and stimulus.\n",
    "sim = simulator.Simulator(model=oscillator, connectivity=white_matter,\n",
    "                          coupling=white_matter_coupling,\n",
    "                          integrator=heunint, monitors=what_to_watch)\n",
    "sim.configure()"
   ]
  },
  {
   "cell_type": "code",
   "execution_count": 9,
   "metadata": {
    "collapsed": true
   },
   "outputs": [],
   "source": [
    "### NOW, we load from files the brain state\n",
    "cryo = load('sim_cryo.npz')\n"
   ]
  },
  {
   "cell_type": "code",
   "execution_count": 10,
   "metadata": {
    "collapsed": false
   },
   "outputs": [],
   "source": [
    "# find the first rng file (i.e. delete the old ones!), and rebuild random state\n",
    "rng_name = glob.glob(\"rng_*.npy\")[0]\n",
    "rng = [f(a) for a, f in zip(rng_name[:-4].split('_')[1:], [str, int, int, float])]\n",
    "rng_state = [rng[0], load(rng_name)] + rng[1:]"
   ]
  },
  {
   "cell_type": "code",
   "execution_count": 11,
   "metadata": {
    "collapsed": true
   },
   "outputs": [],
   "source": [
    "# set the new simulator with the old brain state\n",
    "\n",
    "sim.history[:] = cryo['history']\n",
    "sim.monitors[1]._stock[:] = cryo['bold2']\n",
    "sim.monitors[1]._interim_stock[:] = cryo['bold1']\n",
    "\n",
    "sim.integrator.noise.random_stream.set_state(rng_state)"
   ]
  },
  {
   "cell_type": "code",
   "execution_count": 12,
   "metadata": {
    "collapsed": true
   },
   "outputs": [],
   "source": [
    "# now we can \"continue\" the new simulation\n",
    "tavg_time = []\n",
    "tavg_data = []\n",
    "bold_time = []\n",
    "bold_data = []\n",
    "\n",
    "for tavg_out, bold_out in sim(10000, rng_state):\n",
    "\n",
    "    if not tavg_out is None:\n",
    "        tavg_time.append(tavg_out[0])\n",
    "        tavg_data.append(tavg_out[1])\n",
    "    \n",
    "    if not bold_out is None:\n",
    "        bold_time.append(bold_out[0])\n",
    "        bold_data.append(bold_out[1])"
   ]
  },
  {
   "cell_type": "code",
   "execution_count": 13,
   "metadata": {
    "collapsed": false
   },
   "outputs": [
    {
     "data": {
      "text/plain": [
       "<matplotlib.text.Text at 0x7fd4a62db310>"
      ]
     },
     "execution_count": 13,
     "metadata": {},
     "output_type": "execute_result"
    },
    {
     "data": {
      "image/png": "[encoded data removed]",
      "text/plain": [
       "<matplotlib.figure.Figure at 0x7fd4a63b7f90>"
      ]
     },
     "metadata": {},
     "output_type": "display_data"
    }
   ],
   "source": [
    "# then, plot to see if there is transient or not\n",
    "figure(2)\n",
    "plot(array(bold_time) / 1000.0, array(bold_data)[:, 0, :, 0])\n",
    "title('continued simulation')\n",
    "xlabel('time (s)')"
   ]
  }
 ],
 "metadata": {
  "kernelspec": {
   "display_name": "Python 2",
   "language": "python",
   "name": "python2"
  },
  "language_info": {
   "codemirror_mode": {
    "name": "ipython",
    "version": 2
   },
   "file_extension": ".py",
   "mimetype": "text/x-python",
   "name": "python",
   "nbconvert_exporter": "python",
   "pygments_lexer": "ipython2",
   "version": "2.7.10"
  }
 },
 "nbformat": 4,
 "nbformat_minor": 0
}
