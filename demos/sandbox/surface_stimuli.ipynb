{
 "cells": [
  {
   "cell_type": "code",
   "execution_count": 7,
   "metadata": {
    "collapsed": false
   },
   "outputs": [
    {
     "name": "stdout",
     "output_type": "stream",
     "text": [
      "Populating the interactive namespace from numpy and matplotlib\n"
     ]
    }
   ],
   "source": [
    "%pylab inline"
   ]
  },
  {
   "cell_type": "markdown",
   "metadata": {},
   "source": [
    "Surface Stimuli\n",
    "==========================\n",
    "\n",
    "This tutorial covers the basics of defining and applying surface stimuli. \n",
    "\n",
    "NOTE: Surface simulations can also be run with stimuli defined at the region\n",
    "level, in that case the stimuli take the same form as those discussed in \n",
    "\"Tutorial: Region Stimuli\"."
   ]
  },
  {
   "cell_type": "markdown",
   "metadata": {},
   "source": [
    "Setup\n",
    "-----\n",
    "\n",
    "The setup and initialisation is done in the usual way, see \"Anatomy of a Region Simulation\" and\n",
    "\"Anatomy of a Surface Simulation\" if you haven't already."
   ]
  },
  {
   "cell_type": "code",
   "execution_count": 8,
   "metadata": {
    "collapsed": false
   },
   "outputs": [
    {
     "name": "stdout",
     "output_type": "stream",
     "text": [
      "WARNING  File 'hemispheres' not found in ZIP.\n"
     ]
    }
   ],
   "source": [
    "from tvb.simulator.lab import *\n",
    "LOG = get_logger('demo')\n",
    "\n",
    "#Initialise a Model, Coupling, and Connectivity.\n",
    "oscillator = models.Generic2dOscillator(d=0.1)\n",
    "white_matter = connectivity.Connectivity(load_default=True)\n",
    "white_matter.speed = 4.0\n",
    "\n",
    "white_matter_coupling = coupling.Linear(a=-2**-9)\n",
    "\n",
    "#Initialise an Integrator\n",
    "heunint = integrators.HeunDeterministic(dt=2**-4)\n",
    "\n",
    "#Initialise some Monitors with period in physical time\n",
    "mon_tavg = monitors.TemporalAverage(period=2**-2)\n",
    "mon_savg = monitors.SpatialAverage(period=2**-2)\n",
    "# load the default region mapping\n",
    "rm = region_mapping.RegionMapping(load_default=True)\n",
    "mon_eeg = monitors.EEG(load_default=True, \n",
    "                       region_mapping=rm,\n",
    "                       period=2**-2) \n",
    "#Bundle them\n",
    "what_to_watch = (mon_tavg, mon_savg, mon_eeg)"
   ]
  },
  {
   "cell_type": "markdown",
   "metadata": {},
   "source": [
    "\n",
    "A Surface with Custom LocalConnectivity\n",
    "----------------------------------------\n",
    "\n",
    "However, this time, instead of just using the default local connectivity we'll make a\n",
    "custom one that has been chosen so that the influence of our stimuli will be more apparent.\n",
    "\n",
    "In specifying the LocalConnectivity, we select from a set of equations defining functions\n",
    "with finite support, that is they drop to zero as we move away from the origin. For practical\n",
    "reasons (memory) we need to truncate the evaluation of the LocalConnectivity at some specified\n",
    "distance, which we refer to as the \"cutoff\" distance.\n",
    "\n",
    "NOTE: Distances are in mm, so the cutoff distance and standard deviation of the Gaussian \n",
    "below are 60mm and 10mm, respectively."
   ]
  },
  {
   "cell_type": "code",
   "execution_count": 9,
   "metadata": {
    "collapsed": false
   },
   "outputs": [],
   "source": [
    "#Initialise a surface\n",
    "local_coupling_strength = numpy.array([0.0121])\n",
    "\n",
    "grey_matter = local_connectivity.LocalConnectivity(equation = equations.Gaussian(),\n",
    "                                         cutoff = 60.0)\n",
    "grey_matter.equation.parameters['sigma'] = 10.0\n",
    "grey_matter.equation.parameters['amp'] = 1.0\n",
    "\n",
    "default_cortex = cortex.Cortex(load_default=True)\n",
    "default_cortex.local_connectivity = grey_matter\n",
    "default_cortex.coupling_strength = local_coupling_strength"
   ]
  },
  {
   "cell_type": "markdown",
   "metadata": {},
   "source": [
    "For a quick idea of how the LocalConnectivity we've just specified will be represented\n",
    "on the surface we can use the plotting tool called plot_local_connectivity. This plots \n",
    "the local connectivity function with different sampling based on the distribution of \n",
    "edge lengths in your mesh surface. If all the lines don't, at least mostly, overlap\n",
    "then you've probably specified a function with structure that is too fine for the \n",
    "resolution of your mesh surface. Also, you want the function to have essentially \n",
    "dropped to zero by the cutoff distance.  "
   ]
  },
  {
   "cell_type": "code",
   "execution_count": 10,
   "metadata": {
    "collapsed": false
   },
   "outputs": [
    {
     "data": {
      "image/png": "[encoded data removed]",
      "text/plain": [
       "<matplotlib.figure.Figure at 0x19da2f98>"
      ]
     },
     "metadata": {},
     "output_type": "display_data"
    }
   ],
   "source": [
    "default_cortex.configure()\n",
    "plot_local_connectivity(default_cortex)"
   ]
  },
  {
   "cell_type": "markdown",
   "metadata": {},
   "source": [
    "Stimulus\n",
    "---------\n",
    "\n",
    "As with the region level stimuli, we use an equation to define the temporal profile,\n",
    "however, unlike in the region level case, we also use an equation to define the spatial\n",
    "profile of the stimulus. We also need to specify one or more \"focal points\" (vertices on\n",
    "the cortical surface), about which the spatial equation will be evaluated. Here, as with\n",
    "the LocalConnectivity, we must use an equation \n",
    "which drops toward zero with increasing distance. However, as we don't need to evaluate\n",
    "the equation for every single vertex on the surface, but rather just for a typically \n",
    "small set of focal points, we don't need to truncate the evaluation with an explicit \n",
    "cutoff."
   ]
  },
  {
   "cell_type": "code",
   "execution_count": 11,
   "metadata": {
    "collapsed": false
   },
   "outputs": [],
   "source": [
    "#Define the stimulus\n",
    "eqn_t = equations.Gaussian()\n",
    "eqn_t.parameters[\"amp\"] = 1.0\n",
    "eqn_t.parameters[\"midpoint\"] = 8.0\n",
    "\n",
    "eqn_x = equations.Gaussian()\n",
    "eqn_x.parameters[\"amp\"] =  -0.0625\n",
    "eqn_x.parameters[\"sigma\"] =  28.0\n",
    "\n",
    "stimulus = patterns.StimuliSurface(surface = default_cortex,\n",
    "                                   temporal = eqn_t, \n",
    "                                   spatial = eqn_x,\n",
    "                                   focal_points_surface = numpy.array([8000]))"
   ]
  },
  {
   "cell_type": "markdown",
   "metadata": {},
   "source": [
    "Simulate\n",
    "---------\n",
    "\n",
    "Now we bring all the pieces together into a Simulator object and configure it. We \n",
    "then run the simulator for a bit, throwing away the data, in order to clear the \n",
    "transient dynamics caused by imperfect initial conditions.\n",
    "\n",
    "NOTE: The configure method for the Simulator must calculate the LocalConnectivity\n",
    "here, which involves evaluating the LocalConnectivity function as a function of \n",
    "distance from every single vertex on the surface (about 16000 for the demo surface\n",
    "we're using), so this step may take a minute or two. And then the transient clearing \n",
    "\"dummy\" simulation will take a few more..."
   ]
  },
  {
   "cell_type": "code",
   "execution_count": 12,
   "metadata": {
    "collapsed": false
   },
   "outputs": [
    {
     "name": "stdout",
     "output_type": "stream",
     "text": [
      "   INFO  Initial integration to clear transient...\n"
     ]
    }
   ],
   "source": [
    "#Initialise Simulator -- Model, Connectivity, Integrator, Monitors, and surface.\n",
    "sim = simulator.Simulator(model = oscillator, \n",
    "                          connectivity = white_matter,\n",
    "                          coupling = white_matter_coupling, \n",
    "                          integrator = heunint,  \n",
    "                          monitors = what_to_watch, \n",
    "                          surface = default_cortex, \n",
    "                          stimulus = stimulus)\n",
    "\n",
    "sim.configure()\n",
    "\n",
    "#Clear the initial transient, so that the effect of the stimulus is clearer.\n",
    "#NOTE: this is ignored, stimuli are defined relative to each simulation call.\n",
    "LOG.info(\"Initial integration to clear transient...\")\n",
    "for _, _, _ in sim(simulation_length=128):\n",
    "    pass"
   ]
  },
  {
   "cell_type": "markdown",
   "metadata": {},
   "source": [
    "Then the main simulation loop"
   ]
  },
  {
   "cell_type": "code",
   "execution_count": 13,
   "metadata": {
    "collapsed": false
   },
   "outputs": [],
   "source": [
    "#Perform the simulation\n",
    "tavg_data = []\n",
    "tavg_time = []\n",
    "savg_data = []\n",
    "savg_time = []\n",
    "eeg_data = []\n",
    "eeg_time = []\n",
    "for tavg, savg, eeg in sim(simulation_length=2**5):\n",
    "    if not tavg is None:\n",
    "        tavg_time.append(tavg[0])\n",
    "        tavg_data.append(tavg[1])\n",
    "    \n",
    "    if not savg is None:\n",
    "        savg_time.append(savg[0])\n",
    "        savg_data.append(savg[1])\n",
    "    \n",
    "    if not eeg is None:\n",
    "        eeg_time.append(eeg[0])\n",
    "        eeg_data.append(eeg[1])"
   ]
  },
  {
   "cell_type": "markdown",
   "metadata": {},
   "source": [
    "Plots\n",
    "------\n",
    "\n",
    "So, let's take a look at what we've done.\n",
    "\n",
    "First, we can take a look at the stimuli we've applied to our simulation. We'll\n",
    "use the same plot_pattern tool we used for region stimuli. This gives us a quick\n",
    "overview, however, as you'll see, the representation of the space isn't all that useful."
   ]
  },
  {
   "cell_type": "code",
   "execution_count": 14,
   "metadata": {
    "collapsed": false
   },
   "outputs": [
    {
     "data": {
      "image/png": "[encoded data removed]",
      "text/plain": [
       "<matplotlib.figure.Figure at 0x198a45c0>"
      ]
     },
     "metadata": {},
     "output_type": "display_data"
    }
   ],
   "source": [
    "#Plot the stimulus\n",
    "plot_pattern(sim.stimulus)"
   ]
  },
  {
   "cell_type": "markdown",
   "metadata": {},
   "source": [
    "If we have Mayavi available, we can get a much better representation of the spatial\n",
    "profile of the stimulus by plotting it directly onto our cortical surface, we'll do\n",
    "this using the \"surface_pattern\" plotting tool."
   ]
  },
  {
   "cell_type": "code",
   "execution_count": 15,
   "metadata": {
    "collapsed": false
   },
   "outputs": [
    {
     "ename": "NameError",
     "evalue": "name 'IMPORTED_MAYAVI' is not defined",
     "output_type": "error",
     "traceback": [
      "\u001b[1;31m---------------------------------------------------------------------------\u001b[0m",
      "\u001b[1;31mNameError\u001b[0m                                 Traceback (most recent call last)",
      "\u001b[1;32m<ipython-input-15-c92d7ae38836>\u001b[0m in \u001b[0;36m<module>\u001b[1;34m()\u001b[0m\n\u001b[1;32m----> 1\u001b[1;33m \u001b[1;32mif\u001b[0m \u001b[0mIMPORTED_MAYAVI\u001b[0m\u001b[1;33m:\u001b[0m\u001b[1;33m\u001b[0m\u001b[0m\n\u001b[0m\u001b[0;32m      2\u001b[0m     \u001b[1;32mfrom\u001b[0m \u001b[0mtvb\u001b[0m\u001b[1;33m.\u001b[0m\u001b[0msimulator\u001b[0m\u001b[1;33m.\u001b[0m\u001b[0mplot\u001b[0m\u001b[1;33m.\u001b[0m\u001b[0mtools\u001b[0m \u001b[1;32mimport\u001b[0m \u001b[0mmlab\u001b[0m\u001b[1;33m\u001b[0m\u001b[0m\n\u001b[0;32m      3\u001b[0m     \u001b[0msurface_pattern\u001b[0m\u001b[1;33m(\u001b[0m\u001b[0msim\u001b[0m\u001b[1;33m.\u001b[0m\u001b[0msurface\u001b[0m\u001b[1;33m,\u001b[0m \u001b[0msim\u001b[0m\u001b[1;33m.\u001b[0m\u001b[0mstimulus\u001b[0m\u001b[1;33m.\u001b[0m\u001b[0mspatial_pattern\u001b[0m\u001b[1;33m)\u001b[0m\u001b[1;33m\u001b[0m\u001b[0m\n\u001b[0;32m      4\u001b[0m     \u001b[0mimshow\u001b[0m\u001b[1;33m(\u001b[0m\u001b[0mmlab\u001b[0m\u001b[1;33m.\u001b[0m\u001b[0mscreenshot\u001b[0m\u001b[1;33m(\u001b[0m\u001b[1;33m)\u001b[0m\u001b[1;33m)\u001b[0m\u001b[1;33m\u001b[0m\u001b[0m\n",
      "\u001b[1;31mNameError\u001b[0m: name 'IMPORTED_MAYAVI' is not defined"
     ]
    }
   ],
   "source": [
    "if IMPORTED_MAYAVI:\n",
    "    from tvb.simulator.plot.tools import mlab\n",
    "    surface_pattern(sim.surface, sim.stimulus.spatial_pattern)\n",
    "    imshow(mlab.screenshot())"
   ]
  },
  {
   "cell_type": "markdown",
   "metadata": {},
   "source": [
    "For the spatially down-sampled monitors, which in this example are SpatialAverage and EEG, we can plot the time-series in the usual way. "
   ]
  },
  {
   "cell_type": "code",
   "execution_count": null,
   "metadata": {
    "collapsed": false
   },
   "outputs": [],
   "source": [
    "#Make the lists numpy.arrays for easier use.\n",
    "TAVG = numpy.array(tavg_data)\n",
    "SAVG = numpy.array(savg_data)\n",
    "EEG = numpy.array(eeg_data)\n",
    "\n",
    "#Plot region averaged time series\n",
    "figure(3)\n",
    "plot(savg_time, SAVG[:, 0, :, 0])\n",
    "title(\"Region average\")\n",
    "\n",
    "#Plot EEG time series\n",
    "figure(4)\n",
    "plot(eeg_time, EEG[:, 0, :, 0])\n",
    "title(\"EEG\")\n",
    "\n",
    "#Show them\n",
    "show()"
   ]
  },
  {
   "cell_type": "markdown",
   "metadata": {},
   "source": [
    "And finally, we can plot the full spatial resolution time-series as a movie on the \n",
    "cortical surface.\n",
    "\n",
    "NOTE: it's also possible to plot the stimuli using the surface_timeseries plotting tool."
   ]
  },
  {
   "cell_type": "code",
   "execution_count": null,
   "metadata": {
    "collapsed": false
   },
   "outputs": [],
   "source": [
    "if IMPORTED_MAYAVI:\n",
    "    from tvb.simulator.plot.tools import mlab\n",
    "    st = surface_timeseries(sim.surface, TAVG[:, 0, :, 0])\n",
    "    imshow(mlab.screenshot())\n",
    "else:\n",
    "    print \"Sorry, you don't seem to have been able to import Mayavi.\""
   ]
  },
  {
   "cell_type": "markdown",
   "metadata": {},
   "source": [
    "That's All Folks, so, what now?\n",
    "-------------------------------\n",
    "\n",
    "..."
   ]
  }
 ],
 "metadata": {
  "kernelspec": {
   "display_name": "Python 2",
   "language": "python",
   "name": "python2"
  },
  "language_info": {
   "codemirror_mode": {
    "name": "ipython",
    "version": 2
   },
   "file_extension": ".py",
   "mimetype": "text/x-python",
   "name": "python",
   "nbconvert_exporter": "python",
   "pygments_lexer": "ipython2",
   "version": "2.7.11"
  }
 },
 "nbformat": 4,
 "nbformat_minor": 0
}
