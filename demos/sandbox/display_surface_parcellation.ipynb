{
 "cells": [
  {
   "cell_type": "code",
   "execution_count": 8,
   "metadata": {
    "collapsed": false
   },
   "outputs": [
    {
     "name": "stdout",
     "output_type": "stream",
     "text": [
      "Populating the interactive namespace from numpy and matplotlib\n"
     ]
    }
   ],
   "source": [
    "%pylab inline"
   ]
  },
  {
   "cell_type": "markdown",
   "metadata": {},
   "source": [
    "###Display surface parcellation"
   ]
  },
  {
   "cell_type": "code",
   "execution_count": 9,
   "metadata": {
    "collapsed": true
   },
   "outputs": [],
   "source": [
    "from tvb.datatypes.cortex import Cortex\n",
    "\n",
    "from tvb.simulator.lab import *\n",
    "LOG = get_logger('demo')\n",
    "from tvb.simulator.region_boundaries import RegionBoundaries\n",
    "from tvb.simulator.region_colours import RegionColours "
   ]
  },
  {
   "cell_type": "code",
   "execution_count": 10,
   "metadata": {
    "collapsed": true
   },
   "outputs": [],
   "source": [
    "CORTEX = Cortex.from_file()\n",
    "CORTEX_BOUNDARIES = RegionBoundaries(CORTEX)"
   ]
  },
  {
   "cell_type": "code",
   "execution_count": 11,
   "metadata": {
    "collapsed": true
   },
   "outputs": [],
   "source": [
    "region_colours = RegionColours(CORTEX_BOUNDARIES.region_neighbours)\n",
    "colouring = region_colours.back_track()"
   ]
  },
  {
   "cell_type": "code",
   "execution_count": 12,
   "metadata": {
    "collapsed": true
   },
   "outputs": [],
   "source": [
    "#Make the hemispheres symmetric\n",
    "# TODO: should prob. et colouring for one hemisphere then just stack two copies...\n",
    "number_of_regions = len(CORTEX_BOUNDARIES.region_neighbours)\n",
    "for k in range(int(number_of_regions)):\n",
    "    colouring[k + int(number_of_regions)] = colouring[k]"
   ]
  },
  {
   "cell_type": "code",
   "execution_count": 13,
   "metadata": {
    "collapsed": true
   },
   "outputs": [],
   "source": [
    "mapping_colours = list(\"rgbcmyRGBCMY\")\n",
    "colour_rgb = {\"r\": numpy.array([255,   0,   0], dtype=numpy.uint8),\n",
    "              \"g\": numpy.array([  0, 255,   0], dtype=numpy.uint8),\n",
    "              \"b\": numpy.array([  0,   0, 255], dtype=numpy.uint8),\n",
    "              \"c\": numpy.array([  0, 255, 255], dtype=numpy.uint8),\n",
    "              \"m\": numpy.array([255,   0, 255], dtype=numpy.uint8),\n",
    "              \"y\": numpy.array([255, 255,   0], dtype=numpy.uint8),\n",
    "              \"R\": numpy.array([128,   0,   0], dtype=numpy.uint8),\n",
    "              \"G\": numpy.array([  0, 128,   0], dtype=numpy.uint8),\n",
    "              \"B\": numpy.array([  0,   0, 128], dtype=numpy.uint8),\n",
    "              \"C\": numpy.array([  0, 128, 128], dtype=numpy.uint8),\n",
    "              \"M\": numpy.array([128,   0, 128], dtype=numpy.uint8),\n",
    "              \"Y\": numpy.array([128, 128,   0], dtype=numpy.uint8)}"
   ]
  },
  {
   "cell_type": "code",
   "execution_count": 14,
   "metadata": {
    "collapsed": false
   },
   "outputs": [
    {
     "name": "stderr",
     "output_type": "stream",
     "text": [
      "Traceback (most recent call last):\n",
      "  File \"C:\\Users\\mw\\Downloads\\TVB_Distribution\\tvb_data\\Lib\\logging\\handlers.py\", line 77, in emit\n",
      "    self.doRollover()\n",
      "  File \"C:\\Users\\mw\\Downloads\\TVB_Distribution\\tvb_data\\Lib\\logging\\handlers.py\", line 350, in doRollover\n",
      "    os.rename(self.baseFilename, dfn)\n",
      "WindowsError: [Error 32] The process cannot access the file because it is being used by another process\n",
      "Logged from file common.py, line 69\n",
      "Traceback (most recent call last):\n",
      "  File \"C:\\Users\\mw\\Downloads\\TVB_Distribution\\tvb_data\\Lib\\logging\\handlers.py\", line 77, in emit\n",
      "    self.doRollover()\n",
      "  File \"C:\\Users\\mw\\Downloads\\TVB_Distribution\\tvb_data\\Lib\\logging\\handlers.py\", line 350, in doRollover\n",
      "    os.rename(self.baseFilename, dfn)\n",
      "WindowsError: [Error 32] The process cannot access the file because it is being used by another process\n",
      "Logged from file <ipython-input-14-14a9ba491dea>, line 6\n"
     ]
    }
   ],
   "source": [
    "try:\n",
    "    from tvb.simulator.plot.tools import mlab\n",
    "    (surf_mesh, bpts) = surface_parcellation(CORTEX_BOUNDARIES, colouring, mapping_colours, colour_rgb, interaction=True)\n",
    "    imshow(mlab.screenshot())\n",
    "except ImportError:\n",
    "    LOG.exception(\"Could not display!\")\n",
    "    pass"
   ]
  }
 ],
 "metadata": {
  "kernelspec": {
   "display_name": "Python 2",
   "language": "python",
   "name": "python2"
  },
  "language_info": {
   "codemirror_mode": {
    "name": "ipython",
    "version": 2
   },
   "file_extension": ".py",
   "mimetype": "text/x-python",
   "name": "python",
   "nbconvert_exporter": "python",
   "pygments_lexer": "ipython2",
   "version": "2.7.11"
  }
 },
 "nbformat": 4,
 "nbformat_minor": 0
}
