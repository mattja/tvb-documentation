{
 "cells": [
  {
   "cell_type": "code",
   "execution_count": 1,
   "metadata": {
    "collapsed": false
   },
   "outputs": [
    {
     "name": "stdout",
     "output_type": "stream",
     "text": [
      "Populating the interactive namespace from numpy and matplotlib\n",
      "   INFO  log level set to INFO\n"
     ]
    }
   ],
   "source": [
    "%pylab nbagg\n",
    "from tvb.simulator.lab import *"
   ]
  },
  {
   "cell_type": "markdown",
   "metadata": {},
   "source": [
    "Exploring Hopfield Based Models\n",
    "===\n",
    "\n",
    "This tutorial explores the different dynamics of Hopfield based models.\n",
    "\n",
    "The Hopfield neural network is a discrete time dynamical system composed of multiple binary nodes, with a connectivity matrix built from a predetermined set of patterns. The update, inspired from the spin-glass model (used to describe magnetic properties of dilute alloys), is based on a random scanning of every node. The existence of fixed point dynamics is guaranteed by a Lyapunov function. The Hopfield network is expected to have those multiple patterns as attractors (multistable dynamical system). When the initial conditions are close to one of the 'learned' patterns, the dynamical system is expected to relax on the corresponding attractor. \n",
    "\n",
    "A possible output of the system is the final attractive state (interpreted as an associative memory).\n",
    "\n",
    "Various extensions of the initial model have been proposed, among which a noiseless and continuous version [Hopfield 1984] having a slightly different Lyapunov function, but essentially the same dynamical properties, with more straightforward physiological interpretation. A continuous Hopfield neural network (with a sigmoid transfer function) can indeed be interpreted as a network of neural masses with every node corresponding to the mean field activity of a local brain region, with many bridges with the Wilson Cowan model [ref].\n",
    "\n",
    "**References**:\n",
    "\n",
    "[Hopfield1982] Hopfield, J. J., *Neural networks and physical systems with emergent collective computational abilities*, Proc. Nat. Acad. Sci. (USA) 79, 2554-2558, 1982.\n",
    "\n",
    "[Hopfield1984] Hopfield, J. J., *Neurons with graded response have collective computational properties like those of two-sate neurons*, Proc. Nat. Acad. Sci. (USA) 81, 3088-3092, 1984.\n",
    "\n",
    "See also, http://www.scholarpedia.org/article/Hopfield_network\n",
    "\n",
    "**Note:** This model can use a global and dynamic (time-varying) threshold permitting multistable dynamic for a positive structural connectivity matrix."
   ]
  },
  {
   "cell_type": "markdown",
   "metadata": {},
   "source": [
    "\n",
    "## Configuration\n",
    "\n",
    "In the following **S/D** will refer to **Static/Dynamic** and **L/G** to **Local/Global** respectively.\n",
    "Thus there are 4 variants or models\n",
    "\n",
    "- Static Local (**SL**)\n",
    "- Static Global (**SG**)\n",
    "- Dynamic Local (**DL**)\n",
    "- Dynamic Global (**DG**)\n"
   ]
  },
  {
   "cell_type": "markdown",
   "metadata": {},
   "source": [
    "### Parameters"
   ]
  },
  {
   "cell_type": "code",
   "execution_count": 20,
   "metadata": {
    "collapsed": false
   },
   "outputs": [],
   "source": [
    "# Global coupling function parameters\n",
    "P_SL = 1.0       # Excitation / Inhibition ratio in sigmoidal coupling\n",
    "P_SG = 0.9\n",
    "P_DL = 4.0\n",
    "P_DG = 0.6\n",
    "G = 900.         # Gain of sigmoidal coupling\n",
    "\n",
    "# Model parameters\n",
    "taux = 10.       # Time constant for potentials\n",
    "tauT = 80.       # Time constant for inhibition\n",
    "sigx = 8e-5      # Noise on potentials\n",
    "sigT = 3e-6      # Noise for inhibition\n",
    "dt = 0.1         # Time step [ms]\n",
    "f0 = 0.3         # Initial density"
   ]
  },
  {
   "cell_type": "markdown",
   "metadata": {},
   "source": [
    "### Model\n",
    "\n",
    "Here, we'll create two variants of the model"
   ]
  },
  {
   "cell_type": "code",
   "execution_count": 21,
   "metadata": {
    "collapsed": false
   },
   "outputs": [],
   "source": [
    "modelS = models.Hopfield(taux=taux)\n",
    "modelD = models.Hopfield(taux=taux, tauT=tauT, dynamic=1)"
   ]
  },
  {
   "cell_type": "markdown",
   "metadata": {},
   "source": [
    "### Connectivity"
   ]
  },
  {
   "cell_type": "code",
   "execution_count": 22,
   "metadata": {
    "collapsed": false
   },
   "outputs": [
    {
     "name": "stdout",
     "output_type": "stream",
     "text": [
      "WARNING  File 'average_orientations' not found in ZIP.\n",
      "WARNING  File 'cortical' not found in ZIP.\n",
      "WARNING  File 'hemispheres' not found in ZIP.\n",
      "WARNING  File 'areas' not found in ZIP.\n"
     ]
    }
   ],
   "source": [
    "Connectome = connectivity.Connectivity.from_file(\"connectivity_66.zip\")\n",
    "Connectome.weights /= norm(Connectome.weights) # to have the same P parameters used for the models\n",
    "Connectome.configure()                         # to reach the number of nodes"
   ]
  },
  {
   "cell_type": "markdown",
   "metadata": {},
   "source": [
    "### Coupling and $\\theta_{Static}$ initialization"
   ]
  },
  {
   "cell_type": "code",
   "execution_count": 23,
   "metadata": {
    "collapsed": false
   },
   "outputs": [],
   "source": [
    "thetaL = (Connectome.weights.sum(0) * 0.5)          # As defined in Continuous Hopfield model\n",
    "thetaG = [(Connectome.weights.sum(0) * 0.5).mean()] # Average over nodes for a global threshold\n",
    "coupSL = coupling.PreSigmoidal(G=G, P=P_SL, dynamic=False, globalT=False, theta=thetaL)\n",
    "coupSG = coupling.PreSigmoidal(G=G, P=P_SG, dynamic=False, globalT=True, theta=thetaG)\n",
    "coupDL = coupling.PreSigmoidal(G=G, P=P_DL, dynamic=True, globalT=False)\n",
    "coupDG = coupling.PreSigmoidal(G=G, P=P_DG, dynamic=True, globalT=True)"
   ]
  },
  {
   "cell_type": "markdown",
   "metadata": {},
   "source": [
    "### Integrator & Noise"
   ]
  },
  {
   "cell_type": "code",
   "execution_count": 24,
   "metadata": {
    "collapsed": false
   },
   "outputs": [],
   "source": [
    "noiseS  = noise.Additive(nsig = array([sigx])) \n",
    "noiseDL = noise.Additive(nsig = array([sigx, sigT]))\n",
    "noiseDG = noise.Additive(nsig = array([sigx, sigT]))\n",
    "integratorS = integrators.EulerStochastic(dt=dt, noise=noiseS)\n",
    "integratorDL = integrators.EulerStochastic(dt=dt, noise=noiseDL)\n",
    "integratorDG = integrators.EulerStochastic(dt=dt, noise=noiseDG)"
   ]
  },
  {
   "cell_type": "markdown",
   "metadata": {},
   "source": [
    "### Monitors"
   ]
  },
  {
   "cell_type": "code",
   "execution_count": 25,
   "metadata": {
    "collapsed": true
   },
   "outputs": [],
   "source": [
    "monitorsS = monitors.Raw()\n",
    "monitorsD = monitors.Raw()"
   ]
  },
  {
   "cell_type": "markdown",
   "metadata": {},
   "source": [
    "## Initialization & Run"
   ]
  },
  {
   "cell_type": "markdown",
   "metadata": {},
   "source": [
    "**Initial Conditions**\n",
    "\n",
    "We can consider the *initial density* as the number of active nodes over the number of nodes at t=0.\n",
    "The number of possible attrators for the **SL model** is the biggest for an initial density of **0.5** and P=1.\n",
    "For the **SG model**, it is for an initial density of **0.3** and P=0.9. The **D models** don't need specific initial densities.\n",
    "\n",
    "**Note:** For the **DG model**, the initialization of the threshold $\\theta$ have to be a vector with a size equal to the number of nodes. Onyl the first node is used as a global node but the others have also to be initialized."
   ]
  },
  {
   "cell_type": "code",
   "execution_count": 26,
   "metadata": {
    "collapsed": false
   },
   "outputs": [],
   "source": [
    "# This should be the history array shape ... The base Hopfield model has two state-variables.\n",
    "SVshape = 1, 1, Connectome.number_of_regions, 1\n",
    "\n",
    "x_0 = np.where(rand(*SVshape) > f0, 0., 0.5)\n",
    "x_0b= np.where(rand(*SVshape) > 0.3, 0., 0.5)\n",
    "theta0_L = (P_DL * Connectome.weights.dot(x_0)).reshape(SVshape)\n",
    "theta0_G = (P_DG * Connectome.weights.dot(x_0).mean() * ones(Connectome.number_of_regions)).reshape(SVshape)\n",
    "\n",
    "initialSL = concatenate([x_0, zeros(x_0.shape)], axis=1)\n",
    "initialSG = concatenate([x_0b, zeros(x_0b.shape)], axis=1)\n",
    "initialDL = concatenate((x_0, theta0_L), axis=1)\n",
    "initialDG = concatenate((x_0, theta0_G), axis=1)"
   ]
  },
  {
   "cell_type": "markdown",
   "metadata": {},
   "source": [
    "**Simulator**"
   ]
  },
  {
   "cell_type": "code",
   "execution_count": 27,
   "metadata": {
    "collapsed": false
   },
   "outputs": [],
   "source": [
    "static = {'model': modelS,\n",
    "          'integrator': integratorS,\n",
    "          'monitors': monitorsS,\n",
    "          'connectivity': Connectome,}\n",
    "dynamic = {'model': modelD,\n",
    "           'monitors': monitorsD,\n",
    "           'connectivity': Connectome,}"
   ]
  },
  {
   "cell_type": "code",
   "execution_count": 28,
   "metadata": {
    "collapsed": false
   },
   "outputs": [],
   "source": [
    "simSL = simulator.Simulator(coupling=coupSL, initial_conditions=initialSL, **static)\n",
    "simSG = simulator.Simulator(coupling=coupSG, initial_conditions=initialSG, **static)\n",
    "simDL = simulator.Simulator(coupling=coupDL, integrator=integratorDL, initial_conditions=initialDL, **dynamic)\n",
    "simDG = simulator.Simulator(coupling=coupDG, integrator=integratorDG, initial_conditions=initialDG, **dynamic)\n",
    "simSL.configure()\n",
    "simSG.configure()\n",
    "simDL.configure()\n",
    "simDG.configure();"
   ]
  },
  {
   "cell_type": "markdown",
   "metadata": {},
   "source": [
    "**Static & Local**"
   ]
  },
  {
   "cell_type": "code",
   "execution_count": 29,
   "metadata": {
    "collapsed": false
   },
   "outputs": [],
   "source": [
    "raw_data_SL = []"
   ]
  },
  {
   "cell_type": "code",
   "execution_count": 30,
   "metadata": {
    "collapsed": false
   },
   "outputs": [],
   "source": [
    "for raw, in simSL(simulation_length=250):\n",
    "    raw_data_SL.append(raw[1])\n",
    "SL_X = array(raw_data_SL)[:,0,:,0]"
   ]
  },
  {
   "cell_type": "markdown",
   "metadata": {},
   "source": [
    "**Static & Global**"
   ]
  },
  {
   "cell_type": "code",
   "execution_count": 31,
   "metadata": {
    "collapsed": false
   },
   "outputs": [],
   "source": [
    "raw_data_SG = []"
   ]
  },
  {
   "cell_type": "code",
   "execution_count": 32,
   "metadata": {
    "collapsed": false
   },
   "outputs": [],
   "source": [
    "for raw, in simSG(simulation_length=250):\n",
    "    raw_data_SG.append(raw[1])\n",
    "SG_X = array(raw_data_SG)[:,0,:,0]"
   ]
  },
  {
   "cell_type": "markdown",
   "metadata": {},
   "source": [
    "**Dynamic & Local**"
   ]
  },
  {
   "cell_type": "code",
   "execution_count": 33,
   "metadata": {
    "collapsed": false
   },
   "outputs": [],
   "source": [
    "raw_data_DL = []"
   ]
  },
  {
   "cell_type": "code",
   "execution_count": 34,
   "metadata": {
    "collapsed": false
   },
   "outputs": [],
   "source": [
    "for raw, in simDL(simulation_length=2500):\n",
    "    raw_data_DL.append(raw[1])\n",
    "DL_X = array(raw_data_DL)[:,0,:,0]"
   ]
  },
  {
   "cell_type": "markdown",
   "metadata": {},
   "source": [
    "**Dynamic & Global**"
   ]
  },
  {
   "cell_type": "code",
   "execution_count": 35,
   "metadata": {
    "collapsed": false
   },
   "outputs": [],
   "source": [
    "raw_data_DG = []"
   ]
  },
  {
   "cell_type": "code",
   "execution_count": 36,
   "metadata": {
    "collapsed": false
   },
   "outputs": [
    {
     "ename": "ValueError",
     "evalue": "assignment destination is read-only",
     "output_type": "error",
     "traceback": [
      "\u001b[1;31m---------------------------------------------------------------------------\u001b[0m",
      "\u001b[1;31mValueError\u001b[0m                                Traceback (most recent call last)",
      "\u001b[1;32m<ipython-input-36-b0a870ab90cf>\u001b[0m in \u001b[0;36m<module>\u001b[1;34m()\u001b[0m\n\u001b[1;32m----> 1\u001b[1;33m \u001b[1;32mfor\u001b[0m \u001b[0mraw\u001b[0m\u001b[1;33m,\u001b[0m \u001b[1;32min\u001b[0m \u001b[0msimDG\u001b[0m\u001b[1;33m(\u001b[0m\u001b[0msimulation_length\u001b[0m\u001b[1;33m=\u001b[0m\u001b[1;36m5000\u001b[0m\u001b[1;33m)\u001b[0m\u001b[1;33m:\u001b[0m\u001b[1;33m\u001b[0m\u001b[0m\n\u001b[0m\u001b[0;32m      2\u001b[0m     \u001b[0mraw_data_DG\u001b[0m\u001b[1;33m.\u001b[0m\u001b[0mappend\u001b[0m\u001b[1;33m(\u001b[0m\u001b[0mraw\u001b[0m\u001b[1;33m[\u001b[0m\u001b[1;36m1\u001b[0m\u001b[1;33m]\u001b[0m\u001b[1;33m)\u001b[0m\u001b[1;33m\u001b[0m\u001b[0m\n\u001b[0;32m      3\u001b[0m \u001b[0mDG_X\u001b[0m \u001b[1;33m=\u001b[0m \u001b[0marray\u001b[0m\u001b[1;33m(\u001b[0m\u001b[0mraw_data_DG\u001b[0m\u001b[1;33m)\u001b[0m\u001b[1;33m[\u001b[0m\u001b[1;33m:\u001b[0m\u001b[1;33m,\u001b[0m\u001b[1;36m0\u001b[0m\u001b[1;33m,\u001b[0m\u001b[1;33m:\u001b[0m\u001b[1;33m,\u001b[0m\u001b[1;36m0\u001b[0m\u001b[1;33m]\u001b[0m\u001b[1;33m\u001b[0m\u001b[0m\n",
      "\u001b[1;32mc:\\users\\mw\\documents\\repo\\tvb\\trunk\\scientific_library\\tvb\\simulator\\simulator.py\u001b[0m in \u001b[0;36m__call__\u001b[1;34m(self, simulation_length, random_state)\u001b[0m\n\u001b[0;32m    400\u001b[0m         \u001b[1;32mfor\u001b[0m \u001b[0mstep\u001b[0m \u001b[1;32min\u001b[0m \u001b[0mxrange\u001b[0m\u001b[1;33m(\u001b[0m\u001b[0mself\u001b[0m\u001b[1;33m.\u001b[0m\u001b[0mcurrent_step\u001b[0m \u001b[1;33m+\u001b[0m \u001b[1;36m1\u001b[0m\u001b[1;33m,\u001b[0m \u001b[0mself\u001b[0m\u001b[1;33m.\u001b[0m\u001b[0mcurrent_step\u001b[0m \u001b[1;33m+\u001b[0m \u001b[0mn_steps\u001b[0m \u001b[1;33m+\u001b[0m\u001b[1;36m1\u001b[0m\u001b[1;33m)\u001b[0m\u001b[1;33m:\u001b[0m\u001b[1;33m\u001b[0m\u001b[0m\n\u001b[0;32m    401\u001b[0m             \u001b[1;31m# needs implementing by hsitory + coupling?\u001b[0m\u001b[1;33m\u001b[0m\u001b[1;33m\u001b[0m\u001b[0m\n\u001b[1;32m--> 402\u001b[1;33m             \u001b[0mnode_coupling\u001b[0m \u001b[1;33m=\u001b[0m \u001b[0mself\u001b[0m\u001b[1;33m.\u001b[0m\u001b[0m_loop_compute_node_coupling\u001b[0m\u001b[1;33m(\u001b[0m\u001b[0mstep\u001b[0m\u001b[1;33m)\u001b[0m\u001b[1;33m\u001b[0m\u001b[0m\n\u001b[0m\u001b[0;32m    403\u001b[0m             \u001b[0mself\u001b[0m\u001b[1;33m.\u001b[0m\u001b[0m_loop_update_stimulus\u001b[0m\u001b[1;33m(\u001b[0m\u001b[0mstep\u001b[0m\u001b[1;33m,\u001b[0m \u001b[0mstimulus\u001b[0m\u001b[1;33m)\u001b[0m\u001b[1;33m\u001b[0m\u001b[0m\n\u001b[0;32m    404\u001b[0m             \u001b[0mstate\u001b[0m \u001b[1;33m=\u001b[0m \u001b[0mself\u001b[0m\u001b[1;33m.\u001b[0m\u001b[0mintegrator\u001b[0m\u001b[1;33m.\u001b[0m\u001b[0mscheme\u001b[0m\u001b[1;33m(\u001b[0m\u001b[0mstate\u001b[0m\u001b[1;33m,\u001b[0m \u001b[0mself\u001b[0m\u001b[1;33m.\u001b[0m\u001b[0mmodel\u001b[0m\u001b[1;33m.\u001b[0m\u001b[0mdfun\u001b[0m\u001b[1;33m,\u001b[0m \u001b[0mnode_coupling\u001b[0m\u001b[1;33m,\u001b[0m \u001b[0mlocal_coupling\u001b[0m\u001b[1;33m,\u001b[0m \u001b[0mstimulus\u001b[0m\u001b[1;33m)\u001b[0m\u001b[1;33m\u001b[0m\u001b[0m\n",
      "\u001b[1;32mc:\\users\\mw\\documents\\repo\\tvb\\trunk\\scientific_library\\tvb\\simulator\\simulator.py\u001b[0m in \u001b[0;36m_loop_compute_node_coupling\u001b[1;34m(self, step)\u001b[0m\n\u001b[0;32m    345\u001b[0m     \u001b[1;32mdef\u001b[0m \u001b[0m_loop_compute_node_coupling\u001b[0m\u001b[1;33m(\u001b[0m\u001b[0mself\u001b[0m\u001b[1;33m,\u001b[0m \u001b[0mstep\u001b[0m\u001b[1;33m)\u001b[0m\u001b[1;33m:\u001b[0m\u001b[1;33m\u001b[0m\u001b[0m\n\u001b[0;32m    346\u001b[0m         \u001b[1;34m\"Compute delayed node coupling values.\"\u001b[0m\u001b[1;33m\u001b[0m\u001b[0m\n\u001b[1;32m--> 347\u001b[1;33m         \u001b[0mcoupling\u001b[0m \u001b[1;33m=\u001b[0m \u001b[0mself\u001b[0m\u001b[1;33m.\u001b[0m\u001b[0mcoupling\u001b[0m\u001b[1;33m(\u001b[0m\u001b[0mstep\u001b[0m\u001b[1;33m,\u001b[0m \u001b[0mself\u001b[0m\u001b[1;33m.\u001b[0m\u001b[0mhistory\u001b[0m\u001b[1;33m)\u001b[0m\u001b[1;33m\u001b[0m\u001b[0m\n\u001b[0m\u001b[0;32m    348\u001b[0m         \u001b[1;32mif\u001b[0m \u001b[0mself\u001b[0m\u001b[1;33m.\u001b[0m\u001b[0msurface\u001b[0m \u001b[1;32mis\u001b[0m \u001b[1;32mnot\u001b[0m \u001b[0mNone\u001b[0m\u001b[1;33m:\u001b[0m\u001b[1;33m\u001b[0m\u001b[0m\n\u001b[0;32m    349\u001b[0m             \u001b[0mcoupling\u001b[0m \u001b[1;33m=\u001b[0m \u001b[0mcoupling\u001b[0m\u001b[1;33m[\u001b[0m\u001b[1;33m:\u001b[0m\u001b[1;33m,\u001b[0m \u001b[0mself\u001b[0m\u001b[1;33m.\u001b[0m\u001b[0m_regmap\u001b[0m\u001b[1;33m]\u001b[0m\u001b[1;33m\u001b[0m\u001b[0m\n",
      "\u001b[1;32mc:\\users\\mw\\documents\\repo\\tvb\\trunk\\scientific_library\\tvb\\simulator\\coupling.pyc\u001b[0m in \u001b[0;36m__call__\u001b[1;34m(self, step, history, na)\u001b[0m\n\u001b[0;32m    465\u001b[0m             \u001b[0mc_1\u001b[0m \u001b[1;33m=\u001b[0m \u001b[0mnumpy\u001b[0m\u001b[1;33m.\u001b[0m\u001b[0mdiag\u001b[0m\u001b[1;33m(\u001b[0m\u001b[0mA_j\u001b[0m\u001b[1;33m[\u001b[0m\u001b[1;33m:\u001b[0m\u001b[1;33m,\u001b[0m\u001b[1;36m0\u001b[0m\u001b[1;33m,\u001b[0m\u001b[1;33m:\u001b[0m\u001b[1;33m,\u001b[0m\u001b[1;36m0\u001b[0m\u001b[1;33m]\u001b[0m\u001b[1;33m)\u001b[0m\u001b[1;33m[\u001b[0m\u001b[1;33m:\u001b[0m\u001b[1;33m,\u001b[0m \u001b[0mna\u001b[0m\u001b[1;33m]\u001b[0m\u001b[1;33m\u001b[0m\u001b[0m\n\u001b[0;32m    466\u001b[0m             \u001b[1;32mif\u001b[0m \u001b[0mself\u001b[0m\u001b[1;33m.\u001b[0m\u001b[0mglobalT\u001b[0m\u001b[1;33m:\u001b[0m\u001b[1;33m\u001b[0m\u001b[0m\n\u001b[1;32m--> 467\u001b[1;33m                 \u001b[0mc_1\u001b[0m\u001b[1;33m[\u001b[0m\u001b[1;33m:\u001b[0m\u001b[1;33m]\u001b[0m \u001b[1;33m=\u001b[0m \u001b[0mc_1\u001b[0m\u001b[1;33m.\u001b[0m\u001b[0mmean\u001b[0m\u001b[1;33m(\u001b[0m\u001b[1;33m)\u001b[0m\u001b[1;33m\u001b[0m\u001b[0m\n\u001b[0m\u001b[0;32m    468\u001b[0m             \u001b[1;32mreturn\u001b[0m \u001b[0mnumpy\u001b[0m\u001b[1;33m.\u001b[0m\u001b[0marray\u001b[0m\u001b[1;33m(\u001b[0m\u001b[1;33m[\u001b[0m\u001b[0mc_0\u001b[0m\u001b[1;33m,\u001b[0m \u001b[0mc_1\u001b[0m\u001b[1;33m]\u001b[0m\u001b[1;33m)\u001b[0m\u001b[1;33m\u001b[0m\u001b[0m\n\u001b[0;32m    469\u001b[0m         \u001b[1;32melse\u001b[0m\u001b[1;33m:\u001b[0m \u001b[1;31m# static threshold\u001b[0m\u001b[1;33m\u001b[0m\u001b[0m\n",
      "\u001b[1;31mValueError\u001b[0m: assignment destination is read-only"
     ]
    }
   ],
   "source": [
    "for raw, in simDG(simulation_length=5000):\n",
    "    raw_data_DG.append(raw[1])\n",
    "DG_X = array(raw_data_DG)[:,0,:,0]"
   ]
  },
  {
   "cell_type": "markdown",
   "metadata": {},
   "source": [
    "----------\n",
    "## Display"
   ]
  },
  {
   "cell_type": "code",
   "execution_count": null,
   "metadata": {
    "collapsed": false
   },
   "outputs": [],
   "source": [
    "figure(figsize=(13,8))\n",
    "subplot(411); plot(SL_X); title('Static & Local')\n",
    "subplot(412); plot(SG_X); title('Static & Global')\n",
    "subplot(413); plot(DL_X); title('Dynamic & Local')\n",
    "subplot(414); plot(DG_X); title('Dynamic & Global'); show()"
   ]
  },
  {
   "cell_type": "code",
   "execution_count": null,
   "metadata": {
    "collapsed": false
   },
   "outputs": [],
   "source": [
    "figure(figsize=(13,8))\n",
    "subplot(411); imshow(SL_X.T, aspect='auto', interpolation='nearest'); title('Static & Local')\n",
    "subplot(412); imshow(SG_X.T, aspect='auto', interpolation='nearest'); title('Static & Global')\n",
    "subplot(413); imshow(DL_X.T, aspect='auto', interpolation='nearest'); title('Dynamic & Local')\n",
    "subplot(414); imshow(DG_X.T, aspect='auto', interpolation='nearest'); title('Dynamic & Global'); show()"
   ]
  }
 ],
 "metadata": {
  "kernelspec": {
   "display_name": "Python 2",
   "language": "python",
   "name": "python2"
  },
  "language_info": {
   "codemirror_mode": {
    "name": "ipython",
    "version": 2
   },
   "file_extension": ".py",
   "mimetype": "text/x-python",
   "name": "python",
   "nbconvert_exporter": "python",
   "pygments_lexer": "ipython2",
   "version": "2.7.11"
  }
 },
 "nbformat": 4,
 "nbformat_minor": 0
}
