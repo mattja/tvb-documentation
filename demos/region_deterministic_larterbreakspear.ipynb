{
 "cells": [
  {
   "cell_type": "code",
   "execution_count": 1,
   "metadata": {
    "collapsed": false
   },
   "outputs": [
    {
     "name": "stdout",
     "output_type": "stream",
     "text": [
      "Populating the interactive namespace from numpy and matplotlib\n"
     ]
    }
   ],
   "source": [
    "%pylab inline"
   ]
  },
  {
   "cell_type": "markdown",
   "metadata": {},
   "source": [
    "Explore LarterBreakspear model.\n",
    "\n",
    "``Run time``: 20 min (workstation circa 2012 Intel Xeon W3520@2.67Ghz)\n",
    "\n",
    "``Memory requirement``: ~300 MB\n",
    "``Storage requirement``: ~150MB\n",
    "\n",
    "NOTE: stats were made for a simulation using the 998 region Hagmann\n",
    "connectivity matrix."
   ]
  },
  {
   "cell_type": "code",
   "execution_count": 2,
   "metadata": {
    "collapsed": false
   },
   "outputs": [
    {
     "name": "stdout",
     "output_type": "stream",
     "text": [
      "   INFO  log level set to INFO\n"
     ]
    }
   ],
   "source": [
    "# Third party python libraries\n",
    "import numpy\n",
    "\n",
    "# Try and import from \"The Virtual Brain\"\n",
    "from tvb.simulator.lab import *\n",
    "LOG = get_logger('demo')\n",
    "from tvb.datatypes.time_series import TimeSeriesRegion\n",
    "import tvb.analyzers.fmri_balloon as bold\n",
    "from tvb.simulator.plot import timeseries_interactive as timeseries_interactive"
   ]
  },
  {
   "cell_type": "markdown",
   "metadata": {},
   "source": [
    "####Perform the simulation"
   ]
  },
  {
   "cell_type": "code",
   "execution_count": 3,
   "metadata": {
    "collapsed": false
   },
   "outputs": [
    {
     "name": "stdout",
     "output_type": "stream",
     "text": [
      "   INFO  Configuring...\n"
     ]
    }
   ],
   "source": [
    "LOG.info(\"Configuring...\")"
   ]
  },
  {
   "cell_type": "code",
   "execution_count": 4,
   "metadata": {
    "collapsed": false
   },
   "outputs": [
    {
     "name": "stdout",
     "output_type": "stream",
     "text": [
      "WARNING  File 'hemispheres' not found in ZIP.\n"
     ]
    }
   ],
   "source": [
    "#Initialise a Model, Coupling, and Connectivity.\n",
    "lb = models.LarterBreakspear(QV_max=1.0, QZ_max=1.0, \n",
    "                             d_V=0.65, d_Z=0.65, \n",
    "                             aee=0.36, ani=0.4, ane=1.0, C=0.1)\n",
    "\n",
    "lb.variables_of_interest = [\"V\", \"W\", \"Z\"]\n",
    "\n",
    "white_matter = connectivity.Connectivity(load_default=True)\n",
    "white_matter.speed = numpy.array([7.0])\n",
    "\n",
    "white_matter_coupling = coupling.HyperbolicTangent(a=0.5*lb.QV_max, \n",
    "                                                   midpoint=lb.VT, \n",
    "                                                   sigma=lb.d_V)\n"
   ]
  },
  {
   "cell_type": "code",
   "execution_count": 5,
   "metadata": {
    "collapsed": true
   },
   "outputs": [],
   "source": [
    "#Initialise an Integrator\n",
    "heunint = integrators.HeunDeterministic(dt=0.2)"
   ]
  },
  {
   "cell_type": "code",
   "execution_count": 6,
   "metadata": {
    "collapsed": true
   },
   "outputs": [],
   "source": [
    "#Initialise some Monitors with period in physical time\n",
    "mon_tavg =  monitors.TemporalAverage(period=2.)\n",
    "mon_bold  = monitors.Bold(period=2000.)\n",
    "#Bundle them\n",
    "what_to_watch = (mon_bold, mon_tavg)"
   ]
  },
  {
   "cell_type": "code",
   "execution_count": 7,
   "metadata": {
    "collapsed": false
   },
   "outputs": [
    {
     "data": {
      "text/plain": [
       "Simulator(bound=False, value=None)"
      ]
     },
     "execution_count": 7,
     "metadata": {},
     "output_type": "execute_result"
    }
   ],
   "source": [
    "#Initialise a Simulator -- Model, Connectivity, Integrator, and Monitors.\n",
    "sim = simulator.Simulator(model = lb, \n",
    "                          connectivity = white_matter,\n",
    "                          coupling = white_matter_coupling, \n",
    "                          integrator = heunint, \n",
    "                          monitors = what_to_watch)\n",
    "\n",
    "sim.configure()"
   ]
  },
  {
   "cell_type": "code",
   "execution_count": 8,
   "metadata": {
    "collapsed": false
   },
   "outputs": [
    {
     "name": "stdout",
     "output_type": "stream",
     "text": [
      "   INFO  Starting simulation...\n"
     ]
    },
    {
     "ename": "KeyboardInterrupt",
     "evalue": "",
     "output_type": "error",
     "traceback": [
      "\u001b[1;31m---------------------------------------------------------------------------\u001b[0m",
      "\u001b[1;31mKeyboardInterrupt\u001b[0m                         Traceback (most recent call last)",
      "\u001b[1;32m<ipython-input-8-3156089503ad>\u001b[0m in \u001b[0;36m<module>\u001b[1;34m()\u001b[0m\n\u001b[0;32m      4\u001b[0m \u001b[0mtavg_data\u001b[0m\u001b[1;33m,\u001b[0m \u001b[0mtavg_time\u001b[0m \u001b[1;33m=\u001b[0m \u001b[1;33m[\u001b[0m\u001b[1;33m]\u001b[0m\u001b[1;33m,\u001b[0m \u001b[1;33m[\u001b[0m\u001b[1;33m]\u001b[0m\u001b[1;33m\u001b[0m\u001b[0m\n\u001b[0;32m      5\u001b[0m \u001b[1;33m\u001b[0m\u001b[0m\n\u001b[1;32m----> 6\u001b[1;33m \u001b[1;32mfor\u001b[0m \u001b[0mraw\u001b[0m\u001b[1;33m,\u001b[0m \u001b[0mtavg\u001b[0m \u001b[1;32min\u001b[0m \u001b[0msim\u001b[0m\u001b[1;33m(\u001b[0m\u001b[0msimulation_length\u001b[0m\u001b[1;33m=\u001b[0m\u001b[1;36m480000\u001b[0m\u001b[1;33m)\u001b[0m\u001b[1;33m:\u001b[0m\u001b[1;33m\u001b[0m\u001b[0m\n\u001b[0m\u001b[0;32m      7\u001b[0m     \u001b[1;32mif\u001b[0m \u001b[1;32mnot\u001b[0m \u001b[0mraw\u001b[0m \u001b[1;32mis\u001b[0m \u001b[0mNone\u001b[0m\u001b[1;33m:\u001b[0m\u001b[1;33m\u001b[0m\u001b[0m\n\u001b[0;32m      8\u001b[0m         \u001b[0mbold_time\u001b[0m\u001b[1;33m.\u001b[0m\u001b[0mappend\u001b[0m\u001b[1;33m(\u001b[0m\u001b[0mraw\u001b[0m\u001b[1;33m[\u001b[0m\u001b[1;36m0\u001b[0m\u001b[1;33m]\u001b[0m\u001b[1;33m)\u001b[0m\u001b[1;33m\u001b[0m\u001b[0m\n",
      "\u001b[1;32mc:\\users\\mw\\documents\\repo\\tvb\\trunk\\scientific_library\\tvb\\simulator\\simulator.pyc\u001b[0m in \u001b[0;36m__call__\u001b[1;34m(self, simulation_length, random_state)\u001b[0m\n\u001b[0;32m    401\u001b[0m             \u001b[0mnode_coupling\u001b[0m \u001b[1;33m=\u001b[0m \u001b[0mself\u001b[0m\u001b[1;33m.\u001b[0m\u001b[0m_loop_compute_node_coupling\u001b[0m\u001b[1;33m(\u001b[0m\u001b[0mstep\u001b[0m\u001b[1;33m)\u001b[0m\u001b[1;33m\u001b[0m\u001b[0m\n\u001b[0;32m    402\u001b[0m             \u001b[0mself\u001b[0m\u001b[1;33m.\u001b[0m\u001b[0m_loop_update_stimulus\u001b[0m\u001b[1;33m(\u001b[0m\u001b[0mstep\u001b[0m\u001b[1;33m,\u001b[0m \u001b[0mstimulus\u001b[0m\u001b[1;33m)\u001b[0m\u001b[1;33m\u001b[0m\u001b[0m\n\u001b[1;32m--> 403\u001b[1;33m             \u001b[0mstate\u001b[0m \u001b[1;33m=\u001b[0m \u001b[0mself\u001b[0m\u001b[1;33m.\u001b[0m\u001b[0mintegrator\u001b[0m\u001b[1;33m.\u001b[0m\u001b[0mscheme\u001b[0m\u001b[1;33m(\u001b[0m\u001b[0mstate\u001b[0m\u001b[1;33m,\u001b[0m \u001b[0mself\u001b[0m\u001b[1;33m.\u001b[0m\u001b[0mmodel\u001b[0m\u001b[1;33m.\u001b[0m\u001b[0mdfun\u001b[0m\u001b[1;33m,\u001b[0m \u001b[0mnode_coupling\u001b[0m\u001b[1;33m,\u001b[0m \u001b[0mlocal_coupling\u001b[0m\u001b[1;33m,\u001b[0m \u001b[0mstimulus\u001b[0m\u001b[1;33m)\u001b[0m\u001b[1;33m\u001b[0m\u001b[0m\n\u001b[0m\u001b[0;32m    404\u001b[0m             \u001b[0mself\u001b[0m\u001b[1;33m.\u001b[0m\u001b[0m_loop_update_history\u001b[0m\u001b[1;33m(\u001b[0m\u001b[0mstep\u001b[0m\u001b[1;33m,\u001b[0m \u001b[0mn_reg\u001b[0m\u001b[1;33m,\u001b[0m \u001b[0mstate\u001b[0m\u001b[1;33m)\u001b[0m\u001b[1;33m\u001b[0m\u001b[0m\n\u001b[0;32m    405\u001b[0m             \u001b[0moutput\u001b[0m \u001b[1;33m=\u001b[0m \u001b[0mself\u001b[0m\u001b[1;33m.\u001b[0m\u001b[0m_loop_monitor_output\u001b[0m\u001b[1;33m(\u001b[0m\u001b[0mstep\u001b[0m\u001b[1;33m,\u001b[0m \u001b[0mstate\u001b[0m\u001b[1;33m)\u001b[0m\u001b[1;33m\u001b[0m\u001b[0m\n",
      "\u001b[1;32mc:\\users\\mw\\documents\\repo\\tvb\\trunk\\scientific_library\\tvb\\simulator\\integrators.pyc\u001b[0m in \u001b[0;36mscheme\u001b[1;34m(self, X, dfun, coupling, local_coupling, stimulus)\u001b[0m\n\u001b[0;32m    177\u001b[0m         \"\"\"\n\u001b[0;32m    178\u001b[0m         \u001b[1;31m#import pdb; pdb.set_trace()\u001b[0m\u001b[1;33m\u001b[0m\u001b[1;33m\u001b[0m\u001b[0m\n\u001b[1;32m--> 179\u001b[1;33m         \u001b[0mm_dx_tn\u001b[0m \u001b[1;33m=\u001b[0m \u001b[0mdfun\u001b[0m\u001b[1;33m(\u001b[0m\u001b[0mX\u001b[0m\u001b[1;33m,\u001b[0m \u001b[0mcoupling\u001b[0m\u001b[1;33m,\u001b[0m \u001b[0mlocal_coupling\u001b[0m\u001b[1;33m)\u001b[0m\u001b[1;33m\u001b[0m\u001b[0m\n\u001b[0m\u001b[0;32m    180\u001b[0m         \u001b[0minter\u001b[0m \u001b[1;33m=\u001b[0m \u001b[0mX\u001b[0m \u001b[1;33m+\u001b[0m \u001b[0mself\u001b[0m\u001b[1;33m.\u001b[0m\u001b[0mdt\u001b[0m \u001b[1;33m*\u001b[0m \u001b[1;33m(\u001b[0m\u001b[0mm_dx_tn\u001b[0m  \u001b[1;33m+\u001b[0m \u001b[0mstimulus\u001b[0m\u001b[1;33m)\u001b[0m\u001b[1;33m\u001b[0m\u001b[0m\n\u001b[0;32m    181\u001b[0m         \u001b[0mself\u001b[0m\u001b[1;33m.\u001b[0m\u001b[0mclamp_state\u001b[0m\u001b[1;33m(\u001b[0m\u001b[0minter\u001b[0m\u001b[1;33m)\u001b[0m\u001b[1;33m\u001b[0m\u001b[0m\n",
      "\u001b[1;32mc:\\users\\mw\\documents\\repo\\tvb\\trunk\\scientific_library\\tvb\\simulator\\models\\larter_breakspear.pyc\u001b[0m in \u001b[0;36mdfun\u001b[1;34m(self, state_variables, coupling, local_coupling)\u001b[0m\n\u001b[0;32m    482\u001b[0m                          + self.ane * self.Iext)\n\u001b[0;32m    483\u001b[0m         \u001b[0mderivative\u001b[0m\u001b[1;33m[\u001b[0m\u001b[1;36m1\u001b[0m\u001b[1;33m]\u001b[0m \u001b[1;33m=\u001b[0m \u001b[0mself\u001b[0m\u001b[1;33m.\u001b[0m\u001b[0mt_scale\u001b[0m \u001b[1;33m*\u001b[0m \u001b[0mself\u001b[0m\u001b[1;33m.\u001b[0m\u001b[0mphi\u001b[0m \u001b[1;33m*\u001b[0m \u001b[1;33m(\u001b[0m\u001b[0mm_K\u001b[0m \u001b[1;33m-\u001b[0m \u001b[0mW\u001b[0m\u001b[1;33m)\u001b[0m \u001b[1;33m/\u001b[0m \u001b[0mself\u001b[0m\u001b[1;33m.\u001b[0m\u001b[0mtau_K\u001b[0m\u001b[1;33m\u001b[0m\u001b[0m\n\u001b[1;32m--> 484\u001b[1;33m         \u001b[0mderivative\u001b[0m\u001b[1;33m[\u001b[0m\u001b[1;36m2\u001b[0m\u001b[1;33m]\u001b[0m \u001b[1;33m=\u001b[0m \u001b[0mself\u001b[0m\u001b[1;33m.\u001b[0m\u001b[0mt_scale\u001b[0m \u001b[1;33m*\u001b[0m \u001b[0mself\u001b[0m\u001b[1;33m.\u001b[0m\u001b[0mb\u001b[0m \u001b[1;33m*\u001b[0m \u001b[1;33m(\u001b[0m\u001b[0mself\u001b[0m\u001b[1;33m.\u001b[0m\u001b[0mani\u001b[0m \u001b[1;33m*\u001b[0m \u001b[0mself\u001b[0m\u001b[1;33m.\u001b[0m\u001b[0mIext\u001b[0m \u001b[1;33m+\u001b[0m \u001b[0mself\u001b[0m\u001b[1;33m.\u001b[0m\u001b[0maei\u001b[0m \u001b[1;33m*\u001b[0m \u001b[0mV\u001b[0m \u001b[1;33m*\u001b[0m \u001b[0mQV\u001b[0m\u001b[1;33m)\u001b[0m\u001b[1;33m\u001b[0m\u001b[0m\n\u001b[0m\u001b[0;32m    485\u001b[0m         \u001b[1;32mreturn\u001b[0m \u001b[0mderivative\u001b[0m\u001b[1;33m\u001b[0m\u001b[0m\n",
      "\u001b[1;32mc:\\users\\mw\\documents\\repo\\tvb\\trunk\\scientific_library\\tvb\\basic\\traits\\types_mapped_light.pyc\u001b[0m in \u001b[0;36m__get__\u001b[1;34m(self, inst, cls)\u001b[0m\n\u001b[0;32m    223\u001b[0m \u001b[1;33m\u001b[0m\u001b[0m\n\u001b[0;32m    224\u001b[0m         \u001b[1;32mif\u001b[0m \u001b[0mself\u001b[0m\u001b[1;33m.\u001b[0m\u001b[0mtrait\u001b[0m\u001b[1;33m.\u001b[0m\u001b[0mbound\u001b[0m\u001b[1;33m:\u001b[0m\u001b[1;33m\u001b[0m\u001b[0m\n\u001b[1;32m--> 225\u001b[1;33m             \u001b[1;32mreturn\u001b[0m \u001b[0mself\u001b[0m\u001b[1;33m.\u001b[0m\u001b[0m_get_cached_data\u001b[0m\u001b[1;33m(\u001b[0m\u001b[0minst\u001b[0m\u001b[1;33m)\u001b[0m\u001b[1;33m\u001b[0m\u001b[0m\n\u001b[0m\u001b[0;32m    226\u001b[0m         \u001b[1;32melse\u001b[0m\u001b[1;33m:\u001b[0m\u001b[1;33m\u001b[0m\u001b[0m\n\u001b[0;32m    227\u001b[0m             \u001b[1;32mreturn\u001b[0m \u001b[0mself\u001b[0m\u001b[1;33m\u001b[0m\u001b[0m\n",
      "\u001b[1;31mKeyboardInterrupt\u001b[0m: "
     ]
    }
   ],
   "source": [
    "LOG.info(\"Starting simulation...\")\n",
    "#Perform the simulation\n",
    "bold_data, bold_time = [], []\n",
    "tavg_data, tavg_time = [], []\n",
    "\n",
    "for raw, tavg in sim(simulation_length=480000):\n",
    "    if not raw is None:\n",
    "        bold_time.append(raw[0])\n",
    "        bold_data.append(raw[1])\n",
    "    \n",
    "    if not tavg is None:\n",
    "        tavg_time.append(tavg[0])\n",
    "        tavg_data.append(tavg[1])\n",
    "\n",
    "        \n",
    "LOG.info(\"Finished simulation.\")\n"
   ]
  },
  {
   "cell_type": "markdown",
   "metadata": {},
   "source": [
    "####Plot pretty pictures of what we just did "
   ]
  },
  {
   "cell_type": "code",
   "execution_count": null,
   "metadata": {
    "collapsed": false
   },
   "outputs": [],
   "source": [
    "#Make the lists numpy.arrays for easier use.\n",
    "LOG.info(\"Converting result to array...\")\n",
    "TAVG_TIME = numpy.array(tavg_time)\n",
    "BOLD_TIME = numpy.array(bold_time)\n",
    "BOLD = numpy.array(bold_data)\n",
    "TAVG = numpy.array(tavg_data)\n",
    "\n",
    "#Create TimeSeries instance\n",
    "tsr = TimeSeriesRegion(data = TAVG,\n",
    "                       time = TAVG_TIME,\n",
    "                       sample_period = 2.)\n",
    "tsr.configure()\n",
    "\n",
    "#Create and run the monitor/analyser\n",
    "bold_model = bold.BalloonModel(time_series = tsr)\n",
    "bold_data  = bold_model.evaluate()\n",
    "\n",
    "\n",
    "bold_tsr = TimeSeriesRegion(connectivity = white_matter,\n",
    "                            data = bold_data.data, \n",
    "                            time = bold_data.time)\n",
    "\n",
    "#Prutty puctures...\n",
    "tsi = timeseries_interactive.TimeSeriesInteractive(time_series = bold_tsr)\n",
    "tsi.configure()\n",
    "tsi.show()\n"
   ]
  }
 ],
 "metadata": {
  "kernelspec": {
   "display_name": "Python 2",
   "language": "python",
   "name": "python2"
  },
  "language_info": {
   "codemirror_mode": {
    "name": "ipython",
    "version": 2
   },
   "file_extension": ".py",
   "mimetype": "text/x-python",
   "name": "python",
   "nbconvert_exporter": "python",
   "pygments_lexer": "ipython2",
   "version": "2.7.11"
  }
 },
 "nbformat": 4,
 "nbformat_minor": 0
}
