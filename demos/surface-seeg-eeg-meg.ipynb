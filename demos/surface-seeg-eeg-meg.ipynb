{
 "cells": [
  {
   "cell_type": "markdown",
   "metadata": {},
   "source": [
    "Cortical surface with subcortical regions, sEEG, EEG & MEG, using a stochastic\n",
    "integration."
   ]
  },
  {
   "cell_type": "code",
   "execution_count": null,
   "metadata": {
    "collapsed": true
   },
   "outputs": [],
   "source": [
    "\n",
    "from pylab import *\n",
    "from tvb.simulator.lab import *\n",
    "from tvb.datatypes.cortex import Cortex\n",
    "from tvb.datatypes.region_mapping import RegionMapping\n",
    "from tvb.datatypes.projections import ProjectionMatrix\n",
    "\n",
    "\n",
    "oscillator = models.Generic2dOscillator()\n",
    "white_matter = connectivity.Connectivity.from_file('connectivity_192.zip')\n",
    "white_matter.speed = numpy.array([4.0])\n",
    "white_matter_coupling = coupling.Difference(a=0.014)\n",
    "heunint = integrators.HeunStochastic(\n",
    "    dt=2**-4,\n",
    "    noise=noise.Additive(nsig=numpy.array([2 ** -10, ]))\n",
    ")\n",
    "fsamp = 1e3/1024.0 # 1024 Hz\n",
    "monitors = (\n",
    "    monitors.EEG.from_file('eeg-brainstorm-65.txt', 'projection_EEG_surface.npy', period=fsamp),\n",
    "    monitors.MEG.from_file('meg-brainstorm-276.txt', 'projection_MEG_surface.npy', period=fsamp),\n",
    "    monitors.iEEG.from_file('SEEG_588.txt', 'projection_SEEG_surface.npy', period=fsamp),\n",
    ")\n",
    "local_coupling_strength = numpy.array([2 ** -10])\n",
    "default_cortex = Cortex(region_mapping_data=RegionMapping.from_file('regionMapping_16k_192.txt'),\n",
    "                        load_default=True)\n",
    "default_cortex.coupling_strength = local_coupling_strength\n",
    "sim = simulator.Simulator(model=oscillator, connectivity=white_matter,\n",
    "                          coupling=white_matter_coupling,\n",
    "                          integrator=heunint, monitors=monitors,\n",
    "                          surface=default_cortex)\n",
    "sim.configure()\n",
    "\n",
    "ts, ys = {}, {}\n",
    "mons = 'eeg meg seeg'.split()\n",
    "for key in mons:\n",
    "    ts[key] = []\n",
    "    ys[key] = []\n",
    "\n",
    "for data in sim(simulation_length=2**2):\n",
    "    for key, dat in zip(mons, data):\n",
    "        if dat:\n",
    "            t, y = dat\n",
    "            ts[key].append(t)\n",
    "            ys[key].append(y)\n",
    "\n",
    "figure()\n",
    "for i, key in enumerate(mons):\n",
    "    ts[key] = numpy.array(ts[key])\n",
    "    ys[key] = numpy.array(ys[key])\n",
    "    subplot(3, 1, i + 1)\n",
    "    plot(ts[key], ys[key][:, 0, :, 0], 'k')\n",
    "    title(key)\n",
    "tight_layout()\n",
    "show()"
   ]
  }
 ],
 "metadata": {
  "kernelspec": {
   "display_name": "Python 2",
   "language": "python",
   "name": "python2"
  },
  "language_info": {
   "codemirror_mode": {
    "name": "ipython",
    "version": 2
   },
   "file_extension": ".py",
   "mimetype": "text/x-python",
   "name": "python",
   "nbconvert_exporter": "python",
   "pygments_lexer": "ipython2",
   "version": "2.7.11"
  }
 },
 "nbformat": 4,
 "nbformat_minor": 0
}
